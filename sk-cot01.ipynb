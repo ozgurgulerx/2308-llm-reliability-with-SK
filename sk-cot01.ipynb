{
 "cells": [
  {
   "cell_type": "code",
   "execution_count": 1,
   "metadata": {},
   "outputs": [],
   "source": [
    "import semantic_kernel as sk\n",
    "from semantic_kernel.connectors.ai.open_ai import OpenAITextCompletion, AzureTextCompletion\n",
    "\n",
    "kernel = sk.Kernel()\n",
    "\n"
   ]
  },
  {
   "cell_type": "code",
   "execution_count": 6,
   "metadata": {},
   "outputs": [
    {
     "ename": "AssertionError",
     "evalue": "OpenAI API key not found in .env file",
     "output_type": "error",
     "traceback": [
      "\u001b[0;31m---------------------------------------------------------------------------\u001b[0m",
      "\u001b[0;31mAssertionError\u001b[0m                            Traceback (most recent call last)",
      "Cell \u001b[0;32mIn[6], line 1\u001b[0m\n\u001b[0;32m----> 1\u001b[0m deployment, api_key, endpoint \u001b[39m=\u001b[39m sk\u001b[39m.\u001b[39;49mopenai_settings_from_dot_env()\n\u001b[1;32m      2\u001b[0m kernel\u001b[39m.\u001b[39madd_text_completion_service(\u001b[39m\"\u001b[39m\u001b[39mdv\u001b[39m\u001b[39m\"\u001b[39m, AzureTextCompletion(deployment, endpoint, api_key))\n",
      "File \u001b[0;32m/opt/homebrew/lib/python3.11/site-packages/semantic_kernel/utils/settings.py:20\u001b[0m, in \u001b[0;36mopenai_settings_from_dot_env\u001b[0;34m()\u001b[0m\n\u001b[1;32m     17\u001b[0m api_key \u001b[39m=\u001b[39m config\u001b[39m.\u001b[39mget(\u001b[39m\"\u001b[39m\u001b[39mOPENAI_API_KEY\u001b[39m\u001b[39m\"\u001b[39m, \u001b[39mNone\u001b[39;00m)\n\u001b[1;32m     18\u001b[0m org_id \u001b[39m=\u001b[39m config\u001b[39m.\u001b[39mget(\u001b[39m\"\u001b[39m\u001b[39mOPENAI_ORG_ID\u001b[39m\u001b[39m\"\u001b[39m, \u001b[39mNone\u001b[39;00m)\n\u001b[0;32m---> 20\u001b[0m \u001b[39massert\u001b[39;00m api_key, \u001b[39m\"\u001b[39m\u001b[39mOpenAI API key not found in .env file\u001b[39m\u001b[39m\"\u001b[39m\n\u001b[1;32m     22\u001b[0m \u001b[39m# It's okay if the org ID is not found (not required)\u001b[39;00m\n\u001b[1;32m     23\u001b[0m \u001b[39mreturn\u001b[39;00m api_key, org_id\n",
      "\u001b[0;31mAssertionError\u001b[0m: OpenAI API key not found in .env file"
     ]
    }
   ],
   "source": [
    "deployment, api_key, endpoint = sk.azure_openai_settings_from_dot_env()\n",
    "kernel.add_text_completion_service(\"dv\", AzureTextCompletion(deployment, endpoint, api_key))\n"
   ]
  }
 ],
 "metadata": {
  "kernelspec": {
   "display_name": "Python 3",
   "language": "python",
   "name": "python3"
  },
  "language_info": {
   "codemirror_mode": {
    "name": "ipython",
    "version": 3
   },
   "file_extension": ".py",
   "mimetype": "text/x-python",
   "name": "python",
   "nbconvert_exporter": "python",
   "pygments_lexer": "ipython3",
   "version": "3.11.5"
  },
  "orig_nbformat": 4
 },
 "nbformat": 4,
 "nbformat_minor": 2
}
